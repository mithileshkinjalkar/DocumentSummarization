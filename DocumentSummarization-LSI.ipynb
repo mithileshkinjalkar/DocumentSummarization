{
 "cells": [
  {
   "cell_type": "code",
   "execution_count": 1,
   "id": "5d548139-cf94-42ee-9ccc-d403e940aaa8",
   "metadata": {},
   "outputs": [
    {
     "name": "stderr",
     "output_type": "stream",
     "text": [
      "C:\\Users\\LENOVO\\AppData\\Local\\Temp\\ipykernel_412\\4000416053.py:10: TqdmDeprecationWarning: This function will be removed in tqdm==5.0.0\n",
      "Please use `tqdm.notebook.*` instead of `tqdm._tqdm_notebook.*`\n",
      "  from tqdm._tqdm_notebook import tqdm_notebook\n",
      "[nltk_data] Downloading package stopwords to\n",
      "[nltk_data]     C:\\Users\\LENOVO\\AppData\\Roaming\\nltk_data...\n",
      "[nltk_data]   Package stopwords is already up-to-date!\n",
      "[nltk_data] Downloading package punkt to\n",
      "[nltk_data]     C:\\Users\\LENOVO\\AppData\\Roaming\\nltk_data...\n",
      "[nltk_data]   Package punkt is already up-to-date!\n",
      "[nltk_data] Downloading package wordnet to\n",
      "[nltk_data]     C:\\Users\\LENOVO\\AppData\\Roaming\\nltk_data...\n",
      "[nltk_data]   Package wordnet is already up-to-date!\n",
      "[nltk_data] Downloading package omw-1.4 to\n",
      "[nltk_data]     C:\\Users\\LENOVO\\AppData\\Roaming\\nltk_data...\n",
      "[nltk_data]   Package omw-1.4 is already up-to-date!\n"
     ]
    },
    {
     "data": {
      "text/plain": [
       "True"
      ]
     },
     "execution_count": 1,
     "metadata": {},
     "output_type": "execute_result"
    }
   ],
   "source": [
    "# Importing all the necessary libraries \n",
    "# And downloading word lists from the NLTK corpus\n",
    "\n",
    "from datasets import load_dataset\n",
    "import numpy as np\n",
    "import pandas as pd\n",
    "import seaborn as sns\n",
    "import matplotlib.pyplot as plt\n",
    "import regex as re\n",
    "from tqdm._tqdm_notebook import tqdm_notebook\n",
    "\n",
    "from sklearn.preprocessing import Normalizer\n",
    "from sklearn.feature_extraction.text import TfidfVectorizer\n",
    "from sklearn.decomposition import TruncatedSVD\n",
    "from sklearn.pipeline import make_pipeline\n",
    "\n",
    "import nltk\n",
    "from nltk.tokenize import RegexpTokenizer\n",
    "from nltk.stem import WordNetLemmatizer\n",
    "from nltk.corpus import stopwords\n",
    "\n",
    "nltk.download('stopwords')\n",
    "nltk.download('punkt')\n",
    "nltk.download('wordnet')\n",
    "nltk.download('omw-1.4')"
   ]
  },
  {
   "cell_type": "code",
   "execution_count": 2,
   "id": "e0b95f48-b214-4387-95ec-350bfe4f917a",
   "metadata": {},
   "outputs": [],
   "source": [
    "# Loading the data using Hugging Face's load_dataset encapsulation, part of the datasets library\n",
    "\n",
    "ds_dict = load_dataset('cnn_dailymail', '3.0.0')\n",
    "df = ds_dict['train'].data.to_pandas() # Converting the loaded data to a pandas DataFrame"
   ]
  },
  {
   "cell_type": "code",
   "execution_count": 3,
   "id": "4e975937-a5d9-4f19-ac92-a76095fa51ac",
   "metadata": {},
   "outputs": [
    {
     "data": {
      "text/html": [
       "<div>\n",
       "<style scoped>\n",
       "    .dataframe tbody tr th:only-of-type {\n",
       "        vertical-align: middle;\n",
       "    }\n",
       "\n",
       "    .dataframe tbody tr th {\n",
       "        vertical-align: top;\n",
       "    }\n",
       "\n",
       "    .dataframe thead th {\n",
       "        text-align: right;\n",
       "    }\n",
       "</style>\n",
       "<table border=\"1\" class=\"dataframe\">\n",
       "  <thead>\n",
       "    <tr style=\"text-align: right;\">\n",
       "      <th></th>\n",
       "      <th>article</th>\n",
       "      <th>highlights</th>\n",
       "    </tr>\n",
       "  </thead>\n",
       "  <tbody>\n",
       "    <tr>\n",
       "      <th>0</th>\n",
       "      <td>LONDON, England (Reuters) -- Harry Potter star...</td>\n",
       "      <td>Harry Potter star Daniel Radcliffe gets £20M f...</td>\n",
       "    </tr>\n",
       "    <tr>\n",
       "      <th>1</th>\n",
       "      <td>Editor's note: In our Behind the Scenes series...</td>\n",
       "      <td>Mentally ill inmates in Miami are housed on th...</td>\n",
       "    </tr>\n",
       "    <tr>\n",
       "      <th>2</th>\n",
       "      <td>MINNEAPOLIS, Minnesota (CNN) -- Drivers who we...</td>\n",
       "      <td>NEW: \"I thought I was going to die,\" driver sa...</td>\n",
       "    </tr>\n",
       "    <tr>\n",
       "      <th>3</th>\n",
       "      <td>WASHINGTON (CNN) -- Doctors removed five small...</td>\n",
       "      <td>Five small polyps found during procedure; \"non...</td>\n",
       "    </tr>\n",
       "    <tr>\n",
       "      <th>4</th>\n",
       "      <td>(CNN)  -- The National Football League has ind...</td>\n",
       "      <td>NEW: NFL chief, Atlanta Falcons owner critical...</td>\n",
       "    </tr>\n",
       "  </tbody>\n",
       "</table>\n",
       "</div>"
      ],
      "text/plain": [
       "                                             article  \\\n",
       "0  LONDON, England (Reuters) -- Harry Potter star...   \n",
       "1  Editor's note: In our Behind the Scenes series...   \n",
       "2  MINNEAPOLIS, Minnesota (CNN) -- Drivers who we...   \n",
       "3  WASHINGTON (CNN) -- Doctors removed five small...   \n",
       "4  (CNN)  -- The National Football League has ind...   \n",
       "\n",
       "                                          highlights  \n",
       "0  Harry Potter star Daniel Radcliffe gets £20M f...  \n",
       "1  Mentally ill inmates in Miami are housed on th...  \n",
       "2  NEW: \"I thought I was going to die,\" driver sa...  \n",
       "3  Five small polyps found during procedure; \"non...  \n",
       "4  NEW: NFL chief, Atlanta Falcons owner critical...  "
      ]
     },
     "execution_count": 3,
     "metadata": {},
     "output_type": "execute_result"
    }
   ],
   "source": [
    "# Extracting 3% of the total data for experimental purpose (approximately 9,000 articles/broadcast transcripts)\n",
    "# Transforming the dataset to only include the original article and a reference summary\n",
    "\n",
    "df = pd.DataFrame([df['article'][:(int(0.03 * df.shape[0]))], df['highlights'][:(int(0.03 * df.shape[0]))]])\n",
    "df = df.T\n",
    "df.head()"
   ]
  },
  {
   "cell_type": "code",
   "execution_count": 4,
   "id": "0b6b443f-f505-4914-857c-fa7413978ca8",
   "metadata": {},
   "outputs": [
    {
     "name": "stdout",
     "output_type": "stream",
     "text": [
      "We have 8613 data points.\n"
     ]
    }
   ],
   "source": [
    "print(f\"We have {df.shape[0]} data points.\")"
   ]
  },
  {
   "cell_type": "code",
   "execution_count": 5,
   "id": "5e3c9e4e-dc2b-40a8-a65b-7f57e2ecb0b9",
   "metadata": {},
   "outputs": [],
   "source": [
    "# A function to compute the approximate word count per article using whitespace as a delimiter.\n",
    "\n",
    "def word_count(df):\n",
    "    return df[\"article\"].apply(lambda article: len(re.findall(r\"\\w+\", str(article))))"
   ]
  },
  {
   "cell_type": "code",
   "execution_count": 6,
   "id": "00a4403d-18bc-480b-b464-c71843bab76f",
   "metadata": {},
   "outputs": [
    {
     "data": {
      "image/png": "[encoded data removed]",
      "text/plain": [
       "<Figure size 1400x700 with 1 Axes>"
      ]
     },
     "metadata": {},
     "output_type": "display_data"
    },
    {
     "name": "stdout",
     "output_type": "stream",
     "text": [
      "Average word count across all articles is 635.\n"
     ]
    }
   ],
   "source": [
    "# Plot the word count for each article with the x-axis translated to numbers to indicate a specific article\n",
    "# Using the first 20 articles for visualization purpose\n",
    "\n",
    "df_plot = pd.DataFrame(df[\"article\"][:20])\n",
    "plt.figure(figsize=(14, 7))\n",
    "word_counts = word_count(df_plot)\n",
    "plt.bar(pd.Series(df_plot.index) + 1, word_counts, color='blue', edgecolor='black')\n",
    "plt.title('Word Count in Each Article')\n",
    "plt.xlabel('Article Index')\n",
    "plt.xticks(pd.Series(df_plot.index) + 1)  # Set x-axis ticks to show every index\n",
    "plt.ylabel('Word Count')\n",
    "plt.grid(axis='y')\n",
    "plt.gcf().savefig(\"WordCount.png\")\n",
    "plt.show()\n",
    "mean_count = word_count(df).mean()\n",
    "print(f\"Average word count across all articles is {int(mean_count)}.\")"
   ]
  },
  {
   "cell_type": "code",
   "execution_count": 7,
   "id": "49f5308a-50c8-43a2-a8ca-64fb442ee998",
   "metadata": {},
   "outputs": [],
   "source": [
    "# Function for sentence tokenization. These tokenized sentences would be used eventually to build summaries for respective articles.\n",
    "def sentence_tokenize(text):\n",
    "    sentences = re.split(r'\\.\\s+', text)\n",
    "    return [sentence.strip() for sentence in sentences if sentence]\n",
    "\n",
    "df[\"sentences\"] = df[\"article\"].apply(sentence_tokenize) # Add the list of tokenized sentences to the data frame."
   ]
  },
  {
   "cell_type": "code",
   "execution_count": 8,
   "id": "2787bf9f-ef20-4741-b45a-7102270e6874",
   "metadata": {},
   "outputs": [],
   "source": [
    "# Pre-processing text before vectorizing it (to get a mathematical representation)\n",
    "\n",
    "def data_preprocess(text):\n",
    "    # For text uniformity.\n",
    "    text = text.lower()\n",
    "\n",
    "    # Tokenize sentences to words.\n",
    "    tokens = RegexpTokenizer(r\"\\w+\").tokenize(text)\n",
    "\n",
    "    # Identify stopwords to be removed\n",
    "    stop_words = set(stopwords.words(\"english\"))\n",
    "\n",
    "    # Remove stopwords.\n",
    "    words = [word for word in tokens if word not in stop_words]\n",
    "\n",
    "    # Lemmatization.\n",
    "    words = [WordNetLemmatizer().lemmatize(word) for word in words]\n",
    "\n",
    "    # Combine to form sentences post processing.\n",
    "    text = \" \".join(words)\n",
    "\n",
    "    return text"
   ]
  },
  {
   "cell_type": "code",
   "execution_count": 9,
   "id": "4420116f-af5b-453a-aaad-98e2445f5d62",
   "metadata": {},
   "outputs": [
    {
     "data": {
      "application/vnd.jupyter.widget-view+json": {
       "model_id": "23bf18622b394be7803d722eac38d0ad",
       "version_major": 2,
       "version_minor": 0
      },
      "text/plain": [
       "  0%|          | 0/8613 [00:00<?, ?it/s]"
      ]
     },
     "metadata": {},
     "output_type": "display_data"
    }
   ],
   "source": [
    "# Adding a progress bar to gauge how long the pre-processing would take for the entire data frame.\n",
    "\n",
    "tqdm_notebook.pandas()\n",
    "\n",
    "df[\"tokenized\"] = df[\"sentences\"].progress_apply(lambda text: [data_preprocess(str(sentence)) for sentence in text]) "
   ]
  },
  {
   "cell_type": "code",
   "execution_count": 10,
   "id": "5aa9c348-e5b8-4bfc-ba6b-9988d32483b3",
   "metadata": {},
   "outputs": [
    {
     "data": {
      "text/html": [
       "<div>\n",
       "<style scoped>\n",
       "    .dataframe tbody tr th:only-of-type {\n",
       "        vertical-align: middle;\n",
       "    }\n",
       "\n",
       "    .dataframe tbody tr th {\n",
       "        vertical-align: top;\n",
       "    }\n",
       "\n",
       "    .dataframe thead th {\n",
       "        text-align: right;\n",
       "    }\n",
       "</style>\n",
       "<table border=\"1\" class=\"dataframe\">\n",
       "  <thead>\n",
       "    <tr style=\"text-align: right;\">\n",
       "      <th></th>\n",
       "      <th>article</th>\n",
       "      <th>highlights</th>\n",
       "      <th>sentences</th>\n",
       "      <th>tokenized</th>\n",
       "    </tr>\n",
       "  </thead>\n",
       "  <tbody>\n",
       "    <tr>\n",
       "      <th>0</th>\n",
       "      <td>LONDON, England (Reuters) -- Harry Potter star...</td>\n",
       "      <td>Harry Potter star Daniel Radcliffe gets £20M f...</td>\n",
       "      <td>[LONDON, England (Reuters) -- Harry Potter sta...</td>\n",
       "      <td>[london england reuters harry potter star dani...</td>\n",
       "    </tr>\n",
       "    <tr>\n",
       "      <th>1</th>\n",
       "      <td>Editor's note: In our Behind the Scenes series...</td>\n",
       "      <td>Mentally ill inmates in Miami are housed on th...</td>\n",
       "      <td>[Editor's note: In our Behind the Scenes serie...</td>\n",
       "      <td>[editor note behind scene series cnn correspon...</td>\n",
       "    </tr>\n",
       "    <tr>\n",
       "      <th>2</th>\n",
       "      <td>MINNEAPOLIS, Minnesota (CNN) -- Drivers who we...</td>\n",
       "      <td>NEW: \"I thought I was going to die,\" driver sa...</td>\n",
       "      <td>[MINNEAPOLIS, Minnesota (CNN) -- Drivers who w...</td>\n",
       "      <td>[minneapolis minnesota cnn driver minneapolis ...</td>\n",
       "    </tr>\n",
       "    <tr>\n",
       "      <th>3</th>\n",
       "      <td>WASHINGTON (CNN) -- Doctors removed five small...</td>\n",
       "      <td>Five small polyps found during procedure; \"non...</td>\n",
       "      <td>[WASHINGTON (CNN) -- Doctors removed five smal...</td>\n",
       "      <td>[washington cnn doctor removed five small poly...</td>\n",
       "    </tr>\n",
       "    <tr>\n",
       "      <th>4</th>\n",
       "      <td>(CNN)  -- The National Football League has ind...</td>\n",
       "      <td>NEW: NFL chief, Atlanta Falcons owner critical...</td>\n",
       "      <td>[(CNN)  -- The National Football League has in...</td>\n",
       "      <td>[cnn national football league indefinitely sus...</td>\n",
       "    </tr>\n",
       "  </tbody>\n",
       "</table>\n",
       "</div>"
      ],
      "text/plain": [
       "                                             article  \\\n",
       "0  LONDON, England (Reuters) -- Harry Potter star...   \n",
       "1  Editor's note: In our Behind the Scenes series...   \n",
       "2  MINNEAPOLIS, Minnesota (CNN) -- Drivers who we...   \n",
       "3  WASHINGTON (CNN) -- Doctors removed five small...   \n",
       "4  (CNN)  -- The National Football League has ind...   \n",
       "\n",
       "                                          highlights  \\\n",
       "0  Harry Potter star Daniel Radcliffe gets £20M f...   \n",
       "1  Mentally ill inmates in Miami are housed on th...   \n",
       "2  NEW: \"I thought I was going to die,\" driver sa...   \n",
       "3  Five small polyps found during procedure; \"non...   \n",
       "4  NEW: NFL chief, Atlanta Falcons owner critical...   \n",
       "\n",
       "                                           sentences  \\\n",
       "0  [LONDON, England (Reuters) -- Harry Potter sta...   \n",
       "1  [Editor's note: In our Behind the Scenes serie...   \n",
       "2  [MINNEAPOLIS, Minnesota (CNN) -- Drivers who w...   \n",
       "3  [WASHINGTON (CNN) -- Doctors removed five smal...   \n",
       "4  [(CNN)  -- The National Football League has in...   \n",
       "\n",
       "                                           tokenized  \n",
       "0  [london england reuters harry potter star dani...  \n",
       "1  [editor note behind scene series cnn correspon...  \n",
       "2  [minneapolis minnesota cnn driver minneapolis ...  \n",
       "3  [washington cnn doctor removed five small poly...  \n",
       "4  [cnn national football league indefinitely sus...  "
      ]
     },
     "execution_count": 10,
     "metadata": {},
     "output_type": "execute_result"
    }
   ],
   "source": [
    "df.head() # Post pre-processing"
   ]
  },
  {
   "cell_type": "code",
   "execution_count": 32,
   "id": "e309f898-fda9-487c-b2b5-3bf056457674",
   "metadata": {},
   "outputs": [
    {
     "data": {
      "text/plain": [
       "['bogota colombia cnn key rebel commander fugitive u',\n",
       " 'drug trafficking indictment killed weekend air attack guerrilla encampment colombian military said monday',\n",
       " 'alleged cocaine trafficker farc rebel tomas medina caracas interpol photo',\n",
       " 'tomas medina caracas known popularly el negro acacio member high command fuerzas armada revolucionarias de colombia according colombian u',\n",
       " 'official helped manage group extensive cocaine trafficking network',\n",
       " 'cross hair u',\n",
       " 'justice department since 2002',\n",
       " 'charged conspiracy import cocaine united state manufacturing distributing cocaine within colombia fund farc 42 year insurgency government',\n",
       " 'u',\n",
       " 'official alleged medina caracas managed rebel group sale cocaine international drug trafficker turn smuggled united state',\n",
       " 'also indicted united state along two farc commander november 2002 charge conspiring kidnap two u',\n",
       " 'oil worker neighboring venezuela 1997 holding one nine month 1 million ransom paid',\n",
       " 'official said army rapid response force backed element colombian air force tracked medina caracas farc camp jungle south country',\n",
       " 'bombardment troop occupied camp found 14 dead rebel far along rifle pistol communication equipment',\n",
       " 'four gps system defense minister juan manuel santos said news conference',\n",
       " 'death el negro acacio confirmed various source including member farc medina caracas commanded farc 16th front southern department vichada guainia',\n",
       " 'established 1964 military wing colombian communist party farc colombia oldest largest capable best equipped marxist rebel group according u',\n",
       " 'department state',\n",
       " 'e mail friend',\n",
       " 'journalist fernando ramos contributed report']"
      ]
     },
     "execution_count": 32,
     "metadata": {},
     "output_type": "execute_result"
    }
   ],
   "source": [
    "df[\"tokenized\"][7]"
   ]
  },
  {
   "cell_type": "code",
   "execution_count": 14,
   "id": "69124a1c-18b6-4857-bda5-0f772bc8860f",
   "metadata": {},
   "outputs": [],
   "source": [
    "# Vectorization of pre-processed text\n",
    "\n",
    "def vectorize(article):\n",
    "    # Build document-term matrix using the TF-IDF Vectorizer\n",
    "    vectorizer = TfidfVectorizer(stop_words=None, use_idf=True)\n",
    "    X = vectorizer.fit_transform(article)\n",
    "    return X"
   ]
  },
  {
   "cell_type": "code",
   "execution_count": 15,
   "id": "33abd845-40e5-447c-95a5-1a462d361848",
   "metadata": {},
   "outputs": [],
   "source": [
    "# LSI/LSA pipeline\n",
    "\n",
    "def perform_lsa(dtm):\n",
    "    # Choose the number of components based on the number of sentences and features\n",
    "    num_components = min(100, min(dtm.shape) - 1)\n",
    "\n",
    "    if num_components < 2:\n",
    "        num_components = 3\n",
    "\n",
    "    # Perform LSA using TruncatedSVD\n",
    "    svd = TruncatedSVD(num_components)\n",
    "    normalizer = Normalizer(copy=False)\n",
    "    lsa = make_pipeline(svd, normalizer)\n",
    "    X_lsa = lsa.fit_transform(dtm)\n",
    "\n",
    "    return X_lsa"
   ]
  },
  {
   "cell_type": "code",
   "execution_count": 16,
   "id": "e1bdfa49-e651-4ab2-b1f6-455544fedc49",
   "metadata": {},
   "outputs": [],
   "source": [
    "# Function that combines all implementation to generate indices of key sentences to be used for summarization.\n",
    "def summarize(article):\n",
    "    # Extract key components from the text\n",
    "    X_lsa =  perform_lsa(vectorize(article)) \n",
    "\n",
    "    # Sorting the sentences by importance\n",
    "    sorted_idx = np.argsort(np.sum(X_lsa, axis=1))\n",
    "\n",
    "    # We get the indices of the top sentences\n",
    "    summary_indices = sorted_idx[-3:]\n",
    "\n",
    "    return summary_indices"
   ]
  },
  {
   "cell_type": "code",
   "execution_count": 17,
   "id": "6f29bed0-6a81-432e-aeaa-305c2143f0d0",
   "metadata": {},
   "outputs": [
    {
     "name": "stderr",
     "output_type": "stream",
     "text": [
      "C:\\Users\\LENOVO\\anaconda3\\envs\\NLA-FinalProject\\Lib\\site-packages\\sklearn\\decomposition\\_truncated_svd.py:273: RuntimeWarning: invalid value encountered in divide\n",
      "  self.explained_variance_ratio_ = exp_var / full_var\n",
      "C:\\Users\\LENOVO\\anaconda3\\envs\\NLA-FinalProject\\Lib\\site-packages\\sklearn\\decomposition\\_truncated_svd.py:273: RuntimeWarning: invalid value encountered in divide\n",
      "  self.explained_variance_ratio_ = exp_var / full_var\n"
     ]
    }
   ],
   "source": [
    "# Apply the function to the entire data frame\n",
    "\n",
    "df[\"summary_indices\"] = df[\"tokenized\"].apply(summarize)"
   ]
  },
  {
   "cell_type": "code",
   "execution_count": 18,
   "id": "0aa7b3ab-77b6-4c91-8b66-689229b7d41f",
   "metadata": {},
   "outputs": [
    {
     "data": {
      "text/html": [
       "<div>\n",
       "<style scoped>\n",
       "    .dataframe tbody tr th:only-of-type {\n",
       "        vertical-align: middle;\n",
       "    }\n",
       "\n",
       "    .dataframe tbody tr th {\n",
       "        vertical-align: top;\n",
       "    }\n",
       "\n",
       "    .dataframe thead th {\n",
       "        text-align: right;\n",
       "    }\n",
       "</style>\n",
       "<table border=\"1\" class=\"dataframe\">\n",
       "  <thead>\n",
       "    <tr style=\"text-align: right;\">\n",
       "      <th></th>\n",
       "      <th>article</th>\n",
       "      <th>highlights</th>\n",
       "      <th>sentences</th>\n",
       "      <th>tokenized</th>\n",
       "      <th>summary_indices</th>\n",
       "    </tr>\n",
       "  </thead>\n",
       "  <tbody>\n",
       "    <tr>\n",
       "      <th>0</th>\n",
       "      <td>LONDON, England (Reuters) -- Harry Potter star...</td>\n",
       "      <td>Harry Potter star Daniel Radcliffe gets £20M f...</td>\n",
       "      <td>[LONDON, England (Reuters) -- Harry Potter sta...</td>\n",
       "      <td>[london england reuters harry potter star dani...</td>\n",
       "      <td>[1, 19, 2]</td>\n",
       "    </tr>\n",
       "    <tr>\n",
       "      <th>1</th>\n",
       "      <td>Editor's note: In our Behind the Scenes series...</td>\n",
       "      <td>Mentally ill inmates in Miami are housed on th...</td>\n",
       "      <td>[Editor's note: In our Behind the Scenes serie...</td>\n",
       "      <td>[editor note behind scene series cnn correspon...</td>\n",
       "      <td>[8, 39, 21]</td>\n",
       "    </tr>\n",
       "    <tr>\n",
       "      <th>2</th>\n",
       "      <td>MINNEAPOLIS, Minnesota (CNN) -- Drivers who we...</td>\n",
       "      <td>NEW: \"I thought I was going to die,\" driver sa...</td>\n",
       "      <td>[MINNEAPOLIS, Minnesota (CNN) -- Drivers who w...</td>\n",
       "      <td>[minneapolis minnesota cnn driver minneapolis ...</td>\n",
       "      <td>[22, 5, 2]</td>\n",
       "    </tr>\n",
       "    <tr>\n",
       "      <th>3</th>\n",
       "      <td>WASHINGTON (CNN) -- Doctors removed five small...</td>\n",
       "      <td>Five small polyps found during procedure; \"non...</td>\n",
       "      <td>[WASHINGTON (CNN) -- Doctors removed five smal...</td>\n",
       "      <td>[washington cnn doctor removed five small poly...</td>\n",
       "      <td>[17, 5, 22]</td>\n",
       "    </tr>\n",
       "    <tr>\n",
       "      <th>4</th>\n",
       "      <td>(CNN)  -- The National Football League has ind...</td>\n",
       "      <td>NEW: NFL chief, Atlanta Falcons owner critical...</td>\n",
       "      <td>[(CNN)  -- The National Football League has in...</td>\n",
       "      <td>[cnn national football league indefinitely sus...</td>\n",
       "      <td>[36, 15, 37]</td>\n",
       "    </tr>\n",
       "  </tbody>\n",
       "</table>\n",
       "</div>"
      ],
      "text/plain": [
       "                                             article  \\\n",
       "0  LONDON, England (Reuters) -- Harry Potter star...   \n",
       "1  Editor's note: In our Behind the Scenes series...   \n",
       "2  MINNEAPOLIS, Minnesota (CNN) -- Drivers who we...   \n",
       "3  WASHINGTON (CNN) -- Doctors removed five small...   \n",
       "4  (CNN)  -- The National Football League has ind...   \n",
       "\n",
       "                                          highlights  \\\n",
       "0  Harry Potter star Daniel Radcliffe gets £20M f...   \n",
       "1  Mentally ill inmates in Miami are housed on th...   \n",
       "2  NEW: \"I thought I was going to die,\" driver sa...   \n",
       "3  Five small polyps found during procedure; \"non...   \n",
       "4  NEW: NFL chief, Atlanta Falcons owner critical...   \n",
       "\n",
       "                                           sentences  \\\n",
       "0  [LONDON, England (Reuters) -- Harry Potter sta...   \n",
       "1  [Editor's note: In our Behind the Scenes serie...   \n",
       "2  [MINNEAPOLIS, Minnesota (CNN) -- Drivers who w...   \n",
       "3  [WASHINGTON (CNN) -- Doctors removed five smal...   \n",
       "4  [(CNN)  -- The National Football League has in...   \n",
       "\n",
       "                                           tokenized summary_indices  \n",
       "0  [london england reuters harry potter star dani...      [1, 19, 2]  \n",
       "1  [editor note behind scene series cnn correspon...     [8, 39, 21]  \n",
       "2  [minneapolis minnesota cnn driver minneapolis ...      [22, 5, 2]  \n",
       "3  [washington cnn doctor removed five small poly...     [17, 5, 22]  \n",
       "4  [cnn national football league indefinitely sus...    [36, 15, 37]  "
      ]
     },
     "execution_count": 18,
     "metadata": {},
     "output_type": "execute_result"
    }
   ],
   "source": [
    "df.head()"
   ]
  },
  {
   "cell_type": "code",
   "execution_count": 19,
   "id": "b3b091ee-acc4-42c0-8e6c-97626a484539",
   "metadata": {},
   "outputs": [],
   "source": [
    "# A function that utilizes indices generated in the previous step to build an extractive summary for the entire DataFrame\n",
    "\n",
    "def summary_builder(df):\n",
    "    summaries = []\n",
    "    for ind in df.index:\n",
    "        sentences = df[\"sentences\"][ind]\n",
    "        indices = df[\"summary_indices\"][ind]\n",
    "        summary = \"\"\n",
    "        for index in indices:\n",
    "            summary += f\"{sentences[index]}. \"\n",
    "        summaries.append(summary)\n",
    "    return summaries"
   ]
  },
  {
   "cell_type": "code",
   "execution_count": 20,
   "id": "6b4dcc4f-a167-47ee-a9b4-9989125fac27",
   "metadata": {},
   "outputs": [],
   "source": [
    "# Adding generated summaries to the DataFrame\n",
    "\n",
    "df[\"summary\"] = summary_builder(df)"
   ]
  },
  {
   "cell_type": "code",
   "execution_count": 21,
   "id": "619f9fff-3215-45ce-98d9-080f7ddf8bfa",
   "metadata": {},
   "outputs": [
    {
     "data": {
      "text/html": [
       "<div>\n",
       "<style scoped>\n",
       "    .dataframe tbody tr th:only-of-type {\n",
       "        vertical-align: middle;\n",
       "    }\n",
       "\n",
       "    .dataframe tbody tr th {\n",
       "        vertical-align: top;\n",
       "    }\n",
       "\n",
       "    .dataframe thead th {\n",
       "        text-align: right;\n",
       "    }\n",
       "</style>\n",
       "<table border=\"1\" class=\"dataframe\">\n",
       "  <thead>\n",
       "    <tr style=\"text-align: right;\">\n",
       "      <th></th>\n",
       "      <th>article</th>\n",
       "      <th>highlights</th>\n",
       "      <th>sentences</th>\n",
       "      <th>tokenized</th>\n",
       "      <th>summary_indices</th>\n",
       "      <th>summary</th>\n",
       "    </tr>\n",
       "  </thead>\n",
       "  <tbody>\n",
       "    <tr>\n",
       "      <th>0</th>\n",
       "      <td>LONDON, England (Reuters) -- Harry Potter star...</td>\n",
       "      <td>Harry Potter star Daniel Radcliffe gets £20M f...</td>\n",
       "      <td>[LONDON, England (Reuters) -- Harry Potter sta...</td>\n",
       "      <td>[london england reuters harry potter star dani...</td>\n",
       "      <td>[1, 19, 2]</td>\n",
       "      <td>Daniel Radcliffe as Harry Potter in \"Harry Pot...</td>\n",
       "    </tr>\n",
       "    <tr>\n",
       "      <th>1</th>\n",
       "      <td>Editor's note: In our Behind the Scenes series...</td>\n",
       "      <td>Mentally ill inmates in Miami are housed on th...</td>\n",
       "      <td>[Editor's note: In our Behind the Scenes serie...</td>\n",
       "      <td>[editor note behind scene series cnn correspon...</td>\n",
       "      <td>[8, 39, 21]</td>\n",
       "      <td>He is well known in Miami as an advocate for j...</td>\n",
       "    </tr>\n",
       "    <tr>\n",
       "      <th>2</th>\n",
       "      <td>MINNEAPOLIS, Minnesota (CNN) -- Drivers who we...</td>\n",
       "      <td>NEW: \"I thought I was going to die,\" driver sa...</td>\n",
       "      <td>[MINNEAPOLIS, Minnesota (CNN) -- Drivers who w...</td>\n",
       "      <td>[minneapolis minnesota cnn driver minneapolis ...</td>\n",
       "      <td>[22, 5, 2]</td>\n",
       "      <td>I saw a couple cars fall,\" he said. \"I realize...</td>\n",
       "    </tr>\n",
       "    <tr>\n",
       "      <th>3</th>\n",
       "      <td>WASHINGTON (CNN) -- Doctors removed five small...</td>\n",
       "      <td>Five small polyps found during procedure; \"non...</td>\n",
       "      <td>[WASHINGTON (CNN) -- Doctors removed five smal...</td>\n",
       "      <td>[washington cnn doctor removed five small poly...</td>\n",
       "      <td>[17, 5, 22]</td>\n",
       "      <td>The president's doctor had recommended a repea...</td>\n",
       "    </tr>\n",
       "    <tr>\n",
       "      <th>4</th>\n",
       "      <td>(CNN)  -- The National Football League has ind...</td>\n",
       "      <td>NEW: NFL chief, Atlanta Falcons owner critical...</td>\n",
       "      <td>[(CNN)  -- The National Football League has in...</td>\n",
       "      <td>[cnn national football league indefinitely sus...</td>\n",
       "      <td>[36, 15, 37]</td>\n",
       "      <td>Judge Henry E. \"The defendant will plead guilt...</td>\n",
       "    </tr>\n",
       "  </tbody>\n",
       "</table>\n",
       "</div>"
      ],
      "text/plain": [
       "                                             article  \\\n",
       "0  LONDON, England (Reuters) -- Harry Potter star...   \n",
       "1  Editor's note: In our Behind the Scenes series...   \n",
       "2  MINNEAPOLIS, Minnesota (CNN) -- Drivers who we...   \n",
       "3  WASHINGTON (CNN) -- Doctors removed five small...   \n",
       "4  (CNN)  -- The National Football League has ind...   \n",
       "\n",
       "                                          highlights  \\\n",
       "0  Harry Potter star Daniel Radcliffe gets £20M f...   \n",
       "1  Mentally ill inmates in Miami are housed on th...   \n",
       "2  NEW: \"I thought I was going to die,\" driver sa...   \n",
       "3  Five small polyps found during procedure; \"non...   \n",
       "4  NEW: NFL chief, Atlanta Falcons owner critical...   \n",
       "\n",
       "                                           sentences  \\\n",
       "0  [LONDON, England (Reuters) -- Harry Potter sta...   \n",
       "1  [Editor's note: In our Behind the Scenes serie...   \n",
       "2  [MINNEAPOLIS, Minnesota (CNN) -- Drivers who w...   \n",
       "3  [WASHINGTON (CNN) -- Doctors removed five smal...   \n",
       "4  [(CNN)  -- The National Football League has in...   \n",
       "\n",
       "                                           tokenized summary_indices  \\\n",
       "0  [london england reuters harry potter star dani...      [1, 19, 2]   \n",
       "1  [editor note behind scene series cnn correspon...     [8, 39, 21]   \n",
       "2  [minneapolis minnesota cnn driver minneapolis ...      [22, 5, 2]   \n",
       "3  [washington cnn doctor removed five small poly...     [17, 5, 22]   \n",
       "4  [cnn national football league indefinitely sus...    [36, 15, 37]   \n",
       "\n",
       "                                             summary  \n",
       "0  Daniel Radcliffe as Harry Potter in \"Harry Pot...  \n",
       "1  He is well known in Miami as an advocate for j...  \n",
       "2  I saw a couple cars fall,\" he said. \"I realize...  \n",
       "3  The president's doctor had recommended a repea...  \n",
       "4  Judge Henry E. \"The defendant will plead guilt...  "
      ]
     },
     "execution_count": 21,
     "metadata": {},
     "output_type": "execute_result"
    }
   ],
   "source": [
    "df.head()"
   ]
  },
  {
   "cell_type": "code",
   "execution_count": 28,
   "id": "64b0fb7d-b848-4de6-8869-5dfab0186ea3",
   "metadata": {},
   "outputs": [
    {
     "name": "stdout",
     "output_type": "stream",
     "text": [
      "Article: BOGOTA, Colombia (CNN) -- A key rebel commander and fugitive from a U.S. drug trafficking indictment was killed over the weekend in an air attack on a guerrilla encampment, the Colombian military said Monday. Alleged cocaine trafficker and FARC rebel Tomas Medina Caracas in an Interpol photo. Tomas Medina Caracas, known popularly as \"El Negro Acacio,\" was a member of the high command of the Fuerzas Armadas Revolucionarias de Colombia and, according to Colombian and U.S. officials, helped manage the group's extensive cocaine trafficking network. He had been in the cross-hairs of the U.S. Justice Department since 2002. He was charged with conspiracy to import cocaine into the United States and manufacturing and distributing cocaine within Colombia to fund the FARC's 42-year insurgency against the government. U.S. officials alleged Medina Caracas managed the rebel group's sales of cocaine to international drug traffickers, who in turn smuggled it into the United States. He was also indicted in the United States along with two other FARC commanders in November 2002 on charges of conspiring to kidnap two U.S. oil workers from neighboring Venezuela in 1997 and holding one of them for nine months until a $1 million ransom was paid. Officials said the army's Rapid Response Force, backed by elements of the Colombian Air Force, tracked Medina Caracas down at a FARC camp in the jungle in the south of the country. \"After a bombardment, the troops occupied the camp, and they've found 14 dead rebels so far, along with rifles, pistols, communications equipment and ... four GPS systems,\" Defense Minister Juan Manuel Santos said at a news conference. \"The death of 'El Negro Acacio' was confirmed by various sources, including members of FARC itself.\" Medina Caracas commanded FARC's 16th Front in the southern departments of Vichada and Guainia. Established in 1964 as the military wing of the Colombian Communist Party, FARC is Colombia's oldest, largest, most capable and best-equipped Marxist rebel group, according to the U.S. Department of State. E-mail to a friend . Journalist Fernando Ramos contributed to this report.\n",
      "\n",
      "\n",
      "Summary: four GPS systems,\" Defense Minister Juan Manuel Santos said at a news conference. \"The death of 'El Negro Acacio' was confirmed by various sources, including members of FARC itself.\" Medina Caracas commanded FARC's 16th Front in the southern departments of Vichada and Guainia. He was also indicted in the United States along with two other FARC commanders in November 2002 on charges of conspiring to kidnap two U.S. \n"
     ]
    }
   ],
   "source": [
    "# Sample Examples\n",
    "\n",
    "original_article = df[\"article\"][7]\n",
    "print(f\"Article: {original_article}\") # Article\n",
    "print(\"\\n\")\n",
    "example_summary = df[\"summary\"][7]\n",
    "print(f\"Summary: {example_summary}\") # Example summary"
   ]
  },
  {
   "cell_type": "code",
   "execution_count": 23,
   "id": "689c1f49-eb13-4dea-b23e-1b0398cd76e9",
   "metadata": {},
   "outputs": [],
   "source": [
    "from rouge import Rouge"
   ]
  },
  {
   "cell_type": "code",
   "execution_count": 30,
   "id": "cc0495b9-3e52-47c3-8164-cec15d4fd6c1",
   "metadata": {},
   "outputs": [
    {
     "name": "stdout",
     "output_type": "stream",
     "text": [
      "[{'rouge-1': {'r': 0.3333333333333333, 'p': 0.1935483870967742, 'f': 0.24489795453561022}, 'rouge-2': {'r': 0.075, 'p': 0.043478260869565216, 'f': 0.05504586691355986}, 'rouge-l': {'r': 0.3333333333333333, 'p': 0.1935483870967742, 'f': 0.24489795453561022}}]\n"
     ]
    }
   ],
   "source": [
    "rouge = Rouge() # Create a ROUGE evaluator instance\n",
    "\n",
    "reference_summary = df[\"highlights\"][7]\n",
    "\n",
    "# Generate scores on the basis of the generated summary and a reference summary\n",
    "output = rouge.get_scores(example_summary, reference_summary) \n",
    "print(output)"
   ]
  },
  {
   "cell_type": "code",
   "execution_count": 27,
   "id": "c4c4bdba-1635-4310-9806-aaa96757448a",
   "metadata": {},
   "outputs": [
    {
     "data": {
      "application/vnd.jupyter.widget-view+json": {
       "model_id": "aa10daaea9164c229fa29d148d384cab",
       "version_major": 2,
       "version_minor": 0
      },
      "text/plain": [
       "model.safetensors:   0%|          | 0.00/1.34G [00:00<?, ?B/s]"
      ]
     },
     "metadata": {},
     "output_type": "display_data"
    },
    {
     "name": "stderr",
     "output_type": "stream",
     "text": [
      "C:\\Users\\LENOVO\\anaconda3\\envs\\NLA-FinalProject\\Lib\\site-packages\\huggingface_hub\\file_download.py:147: UserWarning: `huggingface_hub` cache-system uses symlinks by default to efficiently store duplicated files but your machine does not support them in C:\\Users\\LENOVO\\.cache\\huggingface\\hub. Caching files will still work but in a degraded version that might require more space on your disk. This warning can be disabled by setting the `HF_HUB_DISABLE_SYMLINKS_WARNING` environment variable. For more details, see https://huggingface.co/docs/huggingface_hub/how-to-cache#limitations.\n",
      "To support symlinks on Windows, you either need to activate Developer Mode or to run Python as an administrator. In order to see activate developer mode, see this article: https://docs.microsoft.com/en-us/windows/apps/get-started/enable-your-device-for-development\n",
      "  warnings.warn(message)\n"
     ]
    },
    {
     "data": {
      "application/vnd.jupyter.widget-view+json": {
       "model_id": "608421d9fdff42d99a3a9e5163015786",
       "version_major": 2,
       "version_minor": 0
      },
      "text/plain": [
       "tokenizer_config.json:   0%|          | 0.00/28.0 [00:00<?, ?B/s]"
      ]
     },
     "metadata": {},
     "output_type": "display_data"
    },
    {
     "data": {
      "application/vnd.jupyter.widget-view+json": {
       "model_id": "179ba6f8b0b5429f917151bf059ff570",
       "version_major": 2,
       "version_minor": 0
      },
      "text/plain": [
       "vocab.txt:   0%|          | 0.00/232k [00:00<?, ?B/s]"
      ]
     },
     "metadata": {},
     "output_type": "display_data"
    },
    {
     "data": {
      "application/vnd.jupyter.widget-view+json": {
       "model_id": "61e92d7f76f744b29efcd17d5ac6b9ce",
       "version_major": 2,
       "version_minor": 0
      },
      "text/plain": [
       "tokenizer.json:   0%|          | 0.00/466k [00:00<?, ?B/s]"
      ]
     },
     "metadata": {},
     "output_type": "display_data"
    },
    {
     "name": "stderr",
     "output_type": "stream",
     "text": [
      "C:\\Users\\LENOVO\\anaconda3\\envs\\NLA-FinalProject\\Lib\\site-packages\\sklearn\\cluster\\_kmeans.py:1416: FutureWarning: The default value of `n_init` will change from 10 to 'auto' in 1.4. Set the value of `n_init` explicitly to suppress the warning\n",
      "  super()._check_params_vs_input(X, default_n_init=10)\n"
     ]
    },
    {
     "name": "stdout",
     "output_type": "stream",
     "text": [
      "Article:  \n",
      "BOGOTA, Colombia (CNN) -- A key rebel commander and fugitive from a U.S. drug trafficking indictment was killed over the weekend in an air attack on a guerrilla encampment, the Colombian military said Monday. Alleged cocaine trafficker and FARC rebel Tomas Medina Caracas in an Interpol photo. Tomas Medina Caracas, known popularly as \"El Negro Acacio,\" was a member of the high command of the Fuerzas Armadas Revolucionarias de Colombia and, according to Colombian and U.S. officials, helped manage the group's extensive cocaine trafficking network. He had been in the cross-hairs of the U.S. Justice Department since 2002. He was charged with conspiracy to import cocaine into the United States and manufacturing and distributing cocaine within Colombia to fund the FARC's 42-year insurgency against the government. U.S. officials alleged Medina Caracas managed the rebel group's sales of cocaine to international drug traffickers, who in turn smuggled it into the United States. He was also indicted in the United States along with two other FARC commanders in November 2002 on charges of conspiring to kidnap two U.S. oil workers from neighboring Venezuela in 1997 and holding one of them for nine months until a $1 million ransom was paid. Officials said the army's Rapid Response Force, backed by elements of the Colombian Air Force, tracked Medina Caracas down at a FARC camp in the jungle in the south of the country. \"After a bombardment, the troops occupied the camp, and they've found 14 dead rebels so far, along with rifles, pistols, communications equipment and ... four GPS systems,\" Defense Minister Juan Manuel Santos said at a news conference. \"The death of 'El Negro Acacio' was confirmed by various sources, including members of FARC itself.\" Medina Caracas commanded FARC's 16th Front in the southern departments of Vichada and Guainia. Established in 1964 as the military wing of the Colombian Communist Party, FARC is Colombia's oldest, largest, most capable and best-equipped Marxist rebel group, according to the U.S. Department of State. E-mail to a friend . Journalist Fernando Ramos contributed to this report.\n",
      "\n",
      "Summary:  BOGOTA, Colombia (CNN) -- A key rebel commander and fugitive from a U.S. drug trafficking indictment was killed over the weekend in an air attack on a guerrilla encampment, the Colombian military said Monday. Alleged cocaine trafficker and FARC rebel Tomas Medina Caracas in an Interpol photo. Officials said the army's Rapid Response Force, backed by elements of the Colombian Air Force, tracked Medina Caracas down at a FARC camp in the jungle in the south of the country. \"\n"
     ]
    }
   ],
   "source": [
    "from summarizer import Summarizer\n",
    "\n",
    "# Initialize the BERTSUM summarizer\n",
    "model = Summarizer()\n",
    "\n",
    "# Example text to summarize\n",
    "text = \"\"\"\n",
    "BOGOTA, Colombia (CNN) -- A key rebel commander and fugitive from a U.S. drug trafficking indictment was killed over the weekend in an air attack on a guerrilla encampment, the Colombian military said Monday. Alleged cocaine trafficker and FARC rebel Tomas Medina Caracas in an Interpol photo. Tomas Medina Caracas, known popularly as \"El Negro Acacio,\" was a member of the high command of the Fuerzas Armadas Revolucionarias de Colombia and, according to Colombian and U.S. officials, helped manage the group's extensive cocaine trafficking network. He had been in the cross-hairs of the U.S. Justice Department since 2002. He was charged with conspiracy to import cocaine into the United States and manufacturing and distributing cocaine within Colombia to fund the FARC's 42-year insurgency against the government. U.S. officials alleged Medina Caracas managed the rebel group's sales of cocaine to international drug traffickers, who in turn smuggled it into the United States. He was also indicted in the United States along with two other FARC commanders in November 2002 on charges of conspiring to kidnap two U.S. oil workers from neighboring Venezuela in 1997 and holding one of them for nine months until a $1 million ransom was paid. Officials said the army's Rapid Response Force, backed by elements of the Colombian Air Force, tracked Medina Caracas down at a FARC camp in the jungle in the south of the country. \"After a bombardment, the troops occupied the camp, and they've found 14 dead rebels so far, along with rifles, pistols, communications equipment and ... four GPS systems,\" Defense Minister Juan Manuel Santos said at a news conference. \"The death of 'El Negro Acacio' was confirmed by various sources, including members of FARC itself.\" Medina Caracas commanded FARC's 16th Front in the southern departments of Vichada and Guainia. Established in 1964 as the military wing of the Colombian Communist Party, FARC is Colombia's oldest, largest, most capable and best-equipped Marxist rebel group, according to the U.S. Department of State. E-mail to a friend . Journalist Fernando Ramos contributed to this report.\n",
    "\"\"\"\n",
    "\n",
    "# Generate the summary\n",
    "summary = model(text)\n",
    "\n",
    "print(\"Article: \",text)\n",
    "\n",
    "# Output the summarized text\n",
    "print(\"Summary: \",summary)"
   ]
  },
  {
   "cell_type": "code",
   "execution_count": 29,
   "id": "dccc07a7-151d-4a0f-b5b2-54daab30f0ac",
   "metadata": {},
   "outputs": [
    {
     "name": "stdout",
     "output_type": "stream",
     "text": [
      "[{'rouge-1': {'r': 0.5555555555555556, 'p': 0.3333333333333333, 'f': 0.4166666619791667}, 'rouge-2': {'r': 0.35, 'p': 0.18666666666666668, 'f': 0.24347825633270326}, 'rouge-l': {'r': 0.5555555555555556, 'p': 0.3333333333333333, 'f': 0.4166666619791667}}]\n"
     ]
    }
   ],
   "source": [
    "# Generate scores on the basis of the generated summary and a reference summary\n",
    "output = rouge.get_scores(summary, reference_summary) \n",
    "print(output)"
   ]
  }
 ],
 "metadata": {
  "kernelspec": {
   "display_name": "Python 3 (ipykernel)",
   "language": "python",
   "name": "python3"
  },
  "language_info": {
   "codemirror_mode": {
    "name": "ipython",
    "version": 3
   },
   "file_extension": ".py",
   "mimetype": "text/x-python",
   "name": "python",
   "nbconvert_exporter": "python",
   "pygments_lexer": "ipython3",
   "version": "3.11.5"
  }
 },
 "nbformat": 4,
 "nbformat_minor": 5
}
